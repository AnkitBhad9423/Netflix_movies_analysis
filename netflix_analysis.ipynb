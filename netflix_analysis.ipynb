{
 "cells": [
  {
   "cell_type": "code",
   "execution_count": 79,
   "id": "ca3a5ff9-3a69-4b20-83bf-1e97baf9ab1a",
   "metadata": {},
   "outputs": [],
   "source": [
    "import numpy as np\n",
    "import pandas as pd\n",
    "import matplotlib.pyplot as plt\n",
    "import seaborn as sns\n"
   ]
  },
  {
   "cell_type": "code",
   "execution_count": 80,
   "id": "48082197-6221-4e10-be71-9bd5b728b9cf",
   "metadata": {},
   "outputs": [
    {
     "data": {
      "text/html": [
       "<div>\n",
       "<style scoped>\n",
       "    .dataframe tbody tr th:only-of-type {\n",
       "        vertical-align: middle;\n",
       "    }\n",
       "\n",
       "    .dataframe tbody tr th {\n",
       "        vertical-align: top;\n",
       "    }\n",
       "\n",
       "    .dataframe thead th {\n",
       "        text-align: right;\n",
       "    }\n",
       "</style>\n",
       "<table border=\"1\" class=\"dataframe\">\n",
       "  <thead>\n",
       "    <tr style=\"text-align: right;\">\n",
       "      <th></th>\n",
       "      <th>Release_Date</th>\n",
       "      <th>Title</th>\n",
       "      <th>Overview</th>\n",
       "      <th>Popularity</th>\n",
       "      <th>Vote_Count</th>\n",
       "      <th>Vote_Average</th>\n",
       "      <th>Original_Language</th>\n",
       "      <th>Genre</th>\n",
       "      <th>Poster_Url</th>\n",
       "    </tr>\n",
       "  </thead>\n",
       "  <tbody>\n",
       "    <tr>\n",
       "      <th>0</th>\n",
       "      <td>2021-12-15</td>\n",
       "      <td>Spider-Man: No Way Home</td>\n",
       "      <td>Peter Parker is unmasked and no longer able to...</td>\n",
       "      <td>5083.954</td>\n",
       "      <td>8940</td>\n",
       "      <td>8.3</td>\n",
       "      <td>en</td>\n",
       "      <td>Action, Adventure, Science Fiction</td>\n",
       "      <td>https://image.tmdb.org/t/p/original/1g0dhYtq4i...</td>\n",
       "    </tr>\n",
       "    <tr>\n",
       "      <th>1</th>\n",
       "      <td>2022-03-01</td>\n",
       "      <td>The Batman</td>\n",
       "      <td>In his second year of fighting crime, Batman u...</td>\n",
       "      <td>3827.658</td>\n",
       "      <td>1151</td>\n",
       "      <td>8.1</td>\n",
       "      <td>en</td>\n",
       "      <td>Crime, Mystery, Thriller</td>\n",
       "      <td>https://image.tmdb.org/t/p/original/74xTEgt7R3...</td>\n",
       "    </tr>\n",
       "    <tr>\n",
       "      <th>2</th>\n",
       "      <td>2022-02-25</td>\n",
       "      <td>No Exit</td>\n",
       "      <td>Stranded at a rest stop in the mountains durin...</td>\n",
       "      <td>2618.087</td>\n",
       "      <td>122</td>\n",
       "      <td>6.3</td>\n",
       "      <td>en</td>\n",
       "      <td>Thriller</td>\n",
       "      <td>https://image.tmdb.org/t/p/original/vDHsLnOWKl...</td>\n",
       "    </tr>\n",
       "    <tr>\n",
       "      <th>3</th>\n",
       "      <td>2021-11-24</td>\n",
       "      <td>Encanto</td>\n",
       "      <td>The tale of an extraordinary family, the Madri...</td>\n",
       "      <td>2402.201</td>\n",
       "      <td>5076</td>\n",
       "      <td>7.7</td>\n",
       "      <td>en</td>\n",
       "      <td>Animation, Comedy, Family, Fantasy</td>\n",
       "      <td>https://image.tmdb.org/t/p/original/4j0PNHkMr5...</td>\n",
       "    </tr>\n",
       "    <tr>\n",
       "      <th>4</th>\n",
       "      <td>2021-12-22</td>\n",
       "      <td>The King's Man</td>\n",
       "      <td>As a collection of history's worst tyrants and...</td>\n",
       "      <td>1895.511</td>\n",
       "      <td>1793</td>\n",
       "      <td>7.0</td>\n",
       "      <td>en</td>\n",
       "      <td>Action, Adventure, Thriller, War</td>\n",
       "      <td>https://image.tmdb.org/t/p/original/aq4Pwv5Xeu...</td>\n",
       "    </tr>\n",
       "  </tbody>\n",
       "</table>\n",
       "</div>"
      ],
      "text/plain": [
       "  Release_Date                    Title  \\\n",
       "0   2021-12-15  Spider-Man: No Way Home   \n",
       "1   2022-03-01               The Batman   \n",
       "2   2022-02-25                  No Exit   \n",
       "3   2021-11-24                  Encanto   \n",
       "4   2021-12-22           The King's Man   \n",
       "\n",
       "                                            Overview  Popularity Vote_Count  \\\n",
       "0  Peter Parker is unmasked and no longer able to...    5083.954       8940   \n",
       "1  In his second year of fighting crime, Batman u...    3827.658       1151   \n",
       "2  Stranded at a rest stop in the mountains durin...    2618.087        122   \n",
       "3  The tale of an extraordinary family, the Madri...    2402.201       5076   \n",
       "4  As a collection of history's worst tyrants and...    1895.511       1793   \n",
       "\n",
       "  Vote_Average Original_Language                               Genre  \\\n",
       "0          8.3                en  Action, Adventure, Science Fiction   \n",
       "1          8.1                en            Crime, Mystery, Thriller   \n",
       "2          6.3                en                            Thriller   \n",
       "3          7.7                en  Animation, Comedy, Family, Fantasy   \n",
       "4          7.0                en    Action, Adventure, Thriller, War   \n",
       "\n",
       "                                          Poster_Url  \n",
       "0  https://image.tmdb.org/t/p/original/1g0dhYtq4i...  \n",
       "1  https://image.tmdb.org/t/p/original/74xTEgt7R3...  \n",
       "2  https://image.tmdb.org/t/p/original/vDHsLnOWKl...  \n",
       "3  https://image.tmdb.org/t/p/original/4j0PNHkMr5...  \n",
       "4  https://image.tmdb.org/t/p/original/aq4Pwv5Xeu...  "
      ]
     },
     "execution_count": 80,
     "metadata": {},
     "output_type": "execute_result"
    }
   ],
   "source": [
    "# df = pd.read_csv('mymoviedb.csv' )\n",
    "df = pd.read_csv('mymoviedb.csv', encoding='utf-8', engine='python')\n",
    "\n",
    "df.head()"
   ]
  },
  {
   "cell_type": "code",
   "execution_count": 81,
   "id": "d1db433e-1f44-48dd-8523-0f4f3e72a1cf",
   "metadata": {},
   "outputs": [],
   "source": [
    "df = pd.read_csv('mymoviedb.csv', lineterminator='\\n')"
   ]
  },
  {
   "cell_type": "code",
   "execution_count": 82,
   "id": "7c64a5f4-9ea4-4f89-b6f3-5b20261aaca4",
   "metadata": {},
   "outputs": [
    {
     "data": {
      "text/html": [
       "<div>\n",
       "<style scoped>\n",
       "    .dataframe tbody tr th:only-of-type {\n",
       "        vertical-align: middle;\n",
       "    }\n",
       "\n",
       "    .dataframe tbody tr th {\n",
       "        vertical-align: top;\n",
       "    }\n",
       "\n",
       "    .dataframe thead th {\n",
       "        text-align: right;\n",
       "    }\n",
       "</style>\n",
       "<table border=\"1\" class=\"dataframe\">\n",
       "  <thead>\n",
       "    <tr style=\"text-align: right;\">\n",
       "      <th></th>\n",
       "      <th>Release_Date</th>\n",
       "      <th>Title</th>\n",
       "      <th>Overview</th>\n",
       "      <th>Popularity</th>\n",
       "      <th>Vote_Count</th>\n",
       "      <th>Vote_Average</th>\n",
       "      <th>Original_Language</th>\n",
       "      <th>Genre</th>\n",
       "      <th>Poster_Url</th>\n",
       "    </tr>\n",
       "  </thead>\n",
       "  <tbody>\n",
       "    <tr>\n",
       "      <th>0</th>\n",
       "      <td>2021-12-15</td>\n",
       "      <td>Spider-Man: No Way Home</td>\n",
       "      <td>Peter Parker is unmasked and no longer able to...</td>\n",
       "      <td>5083.954</td>\n",
       "      <td>8940</td>\n",
       "      <td>8.3</td>\n",
       "      <td>en</td>\n",
       "      <td>Action, Adventure, Science Fiction</td>\n",
       "      <td>https://image.tmdb.org/t/p/original/1g0dhYtq4i...</td>\n",
       "    </tr>\n",
       "    <tr>\n",
       "      <th>1</th>\n",
       "      <td>2022-03-01</td>\n",
       "      <td>The Batman</td>\n",
       "      <td>In his second year of fighting crime, Batman u...</td>\n",
       "      <td>3827.658</td>\n",
       "      <td>1151</td>\n",
       "      <td>8.1</td>\n",
       "      <td>en</td>\n",
       "      <td>Crime, Mystery, Thriller</td>\n",
       "      <td>https://image.tmdb.org/t/p/original/74xTEgt7R3...</td>\n",
       "    </tr>\n",
       "    <tr>\n",
       "      <th>2</th>\n",
       "      <td>2022-02-25</td>\n",
       "      <td>No Exit</td>\n",
       "      <td>Stranded at a rest stop in the mountains durin...</td>\n",
       "      <td>2618.087</td>\n",
       "      <td>122</td>\n",
       "      <td>6.3</td>\n",
       "      <td>en</td>\n",
       "      <td>Thriller</td>\n",
       "      <td>https://image.tmdb.org/t/p/original/vDHsLnOWKl...</td>\n",
       "    </tr>\n",
       "    <tr>\n",
       "      <th>3</th>\n",
       "      <td>2021-11-24</td>\n",
       "      <td>Encanto</td>\n",
       "      <td>The tale of an extraordinary family, the Madri...</td>\n",
       "      <td>2402.201</td>\n",
       "      <td>5076</td>\n",
       "      <td>7.7</td>\n",
       "      <td>en</td>\n",
       "      <td>Animation, Comedy, Family, Fantasy</td>\n",
       "      <td>https://image.tmdb.org/t/p/original/4j0PNHkMr5...</td>\n",
       "    </tr>\n",
       "    <tr>\n",
       "      <th>4</th>\n",
       "      <td>2021-12-22</td>\n",
       "      <td>The King's Man</td>\n",
       "      <td>As a collection of history's worst tyrants and...</td>\n",
       "      <td>1895.511</td>\n",
       "      <td>1793</td>\n",
       "      <td>7.0</td>\n",
       "      <td>en</td>\n",
       "      <td>Action, Adventure, Thriller, War</td>\n",
       "      <td>https://image.tmdb.org/t/p/original/aq4Pwv5Xeu...</td>\n",
       "    </tr>\n",
       "  </tbody>\n",
       "</table>\n",
       "</div>"
      ],
      "text/plain": [
       "  Release_Date                    Title  \\\n",
       "0   2021-12-15  Spider-Man: No Way Home   \n",
       "1   2022-03-01               The Batman   \n",
       "2   2022-02-25                  No Exit   \n",
       "3   2021-11-24                  Encanto   \n",
       "4   2021-12-22           The King's Man   \n",
       "\n",
       "                                            Overview  Popularity  Vote_Count  \\\n",
       "0  Peter Parker is unmasked and no longer able to...    5083.954        8940   \n",
       "1  In his second year of fighting crime, Batman u...    3827.658        1151   \n",
       "2  Stranded at a rest stop in the mountains durin...    2618.087         122   \n",
       "3  The tale of an extraordinary family, the Madri...    2402.201        5076   \n",
       "4  As a collection of history's worst tyrants and...    1895.511        1793   \n",
       "\n",
       "   Vote_Average Original_Language                               Genre  \\\n",
       "0           8.3                en  Action, Adventure, Science Fiction   \n",
       "1           8.1                en            Crime, Mystery, Thriller   \n",
       "2           6.3                en                            Thriller   \n",
       "3           7.7                en  Animation, Comedy, Family, Fantasy   \n",
       "4           7.0                en    Action, Adventure, Thriller, War   \n",
       "\n",
       "                                          Poster_Url  \n",
       "0  https://image.tmdb.org/t/p/original/1g0dhYtq4i...  \n",
       "1  https://image.tmdb.org/t/p/original/74xTEgt7R3...  \n",
       "2  https://image.tmdb.org/t/p/original/vDHsLnOWKl...  \n",
       "3  https://image.tmdb.org/t/p/original/4j0PNHkMr5...  \n",
       "4  https://image.tmdb.org/t/p/original/aq4Pwv5Xeu...  "
      ]
     },
     "execution_count": 82,
     "metadata": {},
     "output_type": "execute_result"
    }
   ],
   "source": [
    "df.head()"
   ]
  },
  {
   "cell_type": "code",
   "execution_count": 83,
   "id": "5a896386-2d0d-49a6-a38c-3f1a86873e52",
   "metadata": {},
   "outputs": [
    {
     "name": "stdout",
     "output_type": "stream",
     "text": [
      "<class 'pandas.core.frame.DataFrame'>\n",
      "RangeIndex: 9827 entries, 0 to 9826\n",
      "Data columns (total 9 columns):\n",
      " #   Column             Non-Null Count  Dtype  \n",
      "---  ------             --------------  -----  \n",
      " 0   Release_Date       9827 non-null   object \n",
      " 1   Title              9827 non-null   object \n",
      " 2   Overview           9827 non-null   object \n",
      " 3   Popularity         9827 non-null   float64\n",
      " 4   Vote_Count         9827 non-null   int64  \n",
      " 5   Vote_Average       9827 non-null   float64\n",
      " 6   Original_Language  9827 non-null   object \n",
      " 7   Genre              9827 non-null   object \n",
      " 8   Poster_Url         9827 non-null   object \n",
      "dtypes: float64(2), int64(1), object(6)\n",
      "memory usage: 691.1+ KB\n"
     ]
    }
   ],
   "source": [
    "df.info()"
   ]
  },
  {
   "cell_type": "code",
   "execution_count": 84,
   "id": "32c87ec7-a747-4f7e-aadc-453e86480e42",
   "metadata": {},
   "outputs": [
    {
     "data": {
      "text/plain": [
       "0"
      ]
     },
     "execution_count": 84,
     "metadata": {},
     "output_type": "execute_result"
    }
   ],
   "source": [
    "df.duplicated().sum()"
   ]
  },
  {
   "cell_type": "code",
   "execution_count": 85,
   "id": "4e185496-d5e4-4f5a-a66f-deb80fabeb23",
   "metadata": {},
   "outputs": [
    {
     "data": {
      "text/html": [
       "<div>\n",
       "<style scoped>\n",
       "    .dataframe tbody tr th:only-of-type {\n",
       "        vertical-align: middle;\n",
       "    }\n",
       "\n",
       "    .dataframe tbody tr th {\n",
       "        vertical-align: top;\n",
       "    }\n",
       "\n",
       "    .dataframe thead th {\n",
       "        text-align: right;\n",
       "    }\n",
       "</style>\n",
       "<table border=\"1\" class=\"dataframe\">\n",
       "  <thead>\n",
       "    <tr style=\"text-align: right;\">\n",
       "      <th></th>\n",
       "      <th>Popularity</th>\n",
       "      <th>Vote_Count</th>\n",
       "      <th>Vote_Average</th>\n",
       "    </tr>\n",
       "  </thead>\n",
       "  <tbody>\n",
       "    <tr>\n",
       "      <th>count</th>\n",
       "      <td>9827.000000</td>\n",
       "      <td>9827.000000</td>\n",
       "      <td>9827.000000</td>\n",
       "    </tr>\n",
       "    <tr>\n",
       "      <th>mean</th>\n",
       "      <td>40.326088</td>\n",
       "      <td>1392.805536</td>\n",
       "      <td>6.439534</td>\n",
       "    </tr>\n",
       "    <tr>\n",
       "      <th>std</th>\n",
       "      <td>108.873998</td>\n",
       "      <td>2611.206907</td>\n",
       "      <td>1.129759</td>\n",
       "    </tr>\n",
       "    <tr>\n",
       "      <th>min</th>\n",
       "      <td>13.354000</td>\n",
       "      <td>0.000000</td>\n",
       "      <td>0.000000</td>\n",
       "    </tr>\n",
       "    <tr>\n",
       "      <th>25%</th>\n",
       "      <td>16.128500</td>\n",
       "      <td>146.000000</td>\n",
       "      <td>5.900000</td>\n",
       "    </tr>\n",
       "    <tr>\n",
       "      <th>50%</th>\n",
       "      <td>21.199000</td>\n",
       "      <td>444.000000</td>\n",
       "      <td>6.500000</td>\n",
       "    </tr>\n",
       "    <tr>\n",
       "      <th>75%</th>\n",
       "      <td>35.191500</td>\n",
       "      <td>1376.000000</td>\n",
       "      <td>7.100000</td>\n",
       "    </tr>\n",
       "    <tr>\n",
       "      <th>max</th>\n",
       "      <td>5083.954000</td>\n",
       "      <td>31077.000000</td>\n",
       "      <td>10.000000</td>\n",
       "    </tr>\n",
       "  </tbody>\n",
       "</table>\n",
       "</div>"
      ],
      "text/plain": [
       "        Popularity    Vote_Count  Vote_Average\n",
       "count  9827.000000   9827.000000   9827.000000\n",
       "mean     40.326088   1392.805536      6.439534\n",
       "std     108.873998   2611.206907      1.129759\n",
       "min      13.354000      0.000000      0.000000\n",
       "25%      16.128500    146.000000      5.900000\n",
       "50%      21.199000    444.000000      6.500000\n",
       "75%      35.191500   1376.000000      7.100000\n",
       "max    5083.954000  31077.000000     10.000000"
      ]
     },
     "execution_count": 85,
     "metadata": {},
     "output_type": "execute_result"
    }
   ],
   "source": [
    "df.describe()\n"
   ]
  },
  {
   "cell_type": "code",
   "execution_count": 86,
   "id": "ddc799f1-6f88-41e0-aace-e02c6ceadfc9",
   "metadata": {},
   "outputs": [],
   "source": [
    "df['Release_Date']= pd.to_datetime(df['Release_Date'])\n"
   ]
  },
  {
   "cell_type": "code",
   "execution_count": 87,
   "id": "60b358b8-5893-4e29-8ae1-362e9d5d26b0",
   "metadata": {},
   "outputs": [
    {
     "name": "stdout",
     "output_type": "stream",
     "text": [
      "Original_Language\n",
      "en    7570\n",
      "ja     645\n",
      "es     339\n",
      "fr     292\n",
      "ko     170\n",
      "zh     129\n",
      "it     123\n",
      "cn     109\n",
      "ru      83\n",
      "de      82\n",
      "Name: count, dtype: int64\n"
     ]
    }
   ],
   "source": [
    "print(df['Original_Language'].value_counts().head(10))"
   ]
  },
  {
   "cell_type": "code",
   "execution_count": 88,
   "id": "53da31b1-cdb5-439c-b426-470f61f4d65b",
   "metadata": {},
   "outputs": [
    {
     "data": {
      "text/plain": [
       "0    en\n",
       "1    en\n",
       "2    en\n",
       "3    en\n",
       "4    en\n",
       "Name: Original_Language, dtype: object"
      ]
     },
     "execution_count": 88,
     "metadata": {},
     "output_type": "execute_result"
    }
   ],
   "source": [
    "df['Original_Language'].head()"
   ]
  },
  {
   "cell_type": "code",
   "execution_count": 89,
   "id": "e179526e-b509-4518-803f-4f6d7b4f3d80",
   "metadata": {},
   "outputs": [
    {
     "name": "stdout",
     "output_type": "stream",
     "text": [
      "Genre\n",
      "Drama                     466\n",
      "Comedy                    403\n",
      "Drama, Romance            248\n",
      "Horror                    238\n",
      "Horror, Thriller          199\n",
      "Comedy, Romance           196\n",
      "Documentary               139\n",
      "Comedy, Drama             137\n",
      "Action, Thriller          125\n",
      "Comedy, Drama, Romance    107\n",
      "Name: count, dtype: int64\n"
     ]
    }
   ],
   "source": [
    "print(df['Genre'].value_counts().head(10))\n"
   ]
  },
  {
   "cell_type": "code",
   "execution_count": 90,
   "id": "c14698ad-7254-475f-9a22-1b5f3866ddb2",
   "metadata": {},
   "outputs": [],
   "source": [
    "top_popular=df.sort_values( by='Popularity', ascending=False).head(10)"
   ]
  },
  {
   "cell_type": "code",
   "execution_count": 91,
   "id": "e8257ce0-10a7-4039-8086-a590200638fb",
   "metadata": {},
   "outputs": [
    {
     "name": "stdout",
     "output_type": "stream",
     "text": [
      "                     Title  Popularity\n",
      "0  Spider-Man: No Way Home    5083.954\n",
      "1               The Batman    3827.658\n",
      "2                  No Exit    2618.087\n",
      "3                  Encanto    2402.201\n",
      "4           The King's Man    1895.511\n",
      "5             The Commando    1750.484\n",
      "6                   Scream    1675.161\n",
      "7                     Kimi    1601.782\n",
      "8     Fistful of Vengeance    1594.013\n",
      "9                 Eternals    1537.406\n"
     ]
    }
   ],
   "source": [
    "print(top_popular[['Title','Popularity']])"
   ]
  },
  {
   "cell_type": "code",
   "execution_count": 92,
   "id": "7b04c03e-afa7-4664-8c28-c17940b8937c",
   "metadata": {},
   "outputs": [
    {
     "name": "stdout",
     "output_type": "stream",
     "text": [
      "                               Title  Vote_Count  Vote_Average\n",
      "609                    The Godfather       15614           8.7\n",
      "3146     Dilwale Dulhania Le Jayenge        3474           8.7\n",
      "657         The Shawshank Redemption       20911           8.7\n",
      "1317                Schindler's List       12474           8.6\n",
      "1007          The Godfather: Part II        9393           8.6\n",
      "221                  The Dark Knight       26994           8.5\n",
      "1704  The Good, the Bad and the Ugly        6479           8.5\n",
      "1759                      GoodFellas        9860           8.5\n",
      "1312                    Pulp Fiction       22733           8.5\n",
      "5445                 Cinema Paradiso        3259           8.5\n"
     ]
    }
   ],
   "source": [
    "top_rated=df[df['Vote_Count']>=1000].sort_values(by= 'Vote_Average', ascending=False).head(10)\n",
    "print(top_rated[['Title', 'Vote_Count','Vote_Average']])"
   ]
  },
  {
   "cell_type": "code",
   "execution_count": 93,
   "id": "75254ba7-c81b-46f9-9183-ec4a949aab9d",
   "metadata": {},
   "outputs": [],
   "source": [
    "df['Year']=df['Release_Date'].dt.year\n",
    "movies_per_year=df['Year'].value_counts().sort_index()"
   ]
  },
  {
   "cell_type": "code",
   "execution_count": 94,
   "id": "5c15cec1-1224-4c1c-ad25-c6d6db04cf38",
   "metadata": {},
   "outputs": [
    {
     "name": "stdout",
     "output_type": "stream",
     "text": [
      "Year\n",
      "1902      1\n",
      "1920      1\n",
      "1921      2\n",
      "1922      2\n",
      "1925      1\n",
      "       ... \n",
      "2020    453\n",
      "2021    714\n",
      "2022    208\n",
      "2023      8\n",
      "2024      1\n",
      "Name: count, Length: 102, dtype: int64\n"
     ]
    }
   ],
   "source": [
    "print(movies_per_year)"
   ]
  },
  {
   "cell_type": "code",
   "execution_count": 95,
   "id": "878a6fbb-0e12-4bf7-9109-7fd91e3365b0",
   "metadata": {},
   "outputs": [
    {
     "data": {
      "image/png": "[encoded data removed]",
      "text/plain": [
       "<Figure size 1200x600 with 1 Axes>"
      ]
     },
     "metadata": {},
     "output_type": "display_data"
    }
   ],
   "source": [
    "movies_per_year.plot(kind='bar', figsize=(12,6), title='Movies Released per year')\n",
    "plt.xlabel('Year')\n",
    "plt.ylabel('Number of Movies')\n",
    "plt.tight_layout()\n",
    "plt.show()"
   ]
  },
  {
   "cell_type": "code",
   "execution_count": 96,
   "id": "fe242a1f-7be4-4d1c-a8ad-50766bea5346",
   "metadata": {},
   "outputs": [
    {
     "name": "stdout",
     "output_type": "stream",
     "text": [
      "count\n",
      "0      125\n",
      "10     164\n",
      "20     245\n",
      "30     105\n",
      "40     179\n",
      "50     109\n",
      "60      68\n",
      "70     149\n",
      "80     414\n",
      "90      96\n",
      "100    103\n",
      "110    348\n",
      "120    125\n",
      "130    268\n",
      "160    329\n",
      "180    182\n",
      "200    413\n",
      "210    216\n",
      "230    237\n",
      "240    245\n",
      "250    250\n",
      "270    279\n",
      "280    285\n",
      "290    291\n",
      "310    316\n",
      "340    348\n",
      "370    371\n",
      "390    390\n",
      "450    453\n",
      "470    470\n",
      "500    500\n",
      "510    510\n",
      "530    530\n",
      "710    714\n",
      "Name: count, dtype: int64\n"
     ]
    }
   ],
   "source": [
    "movies_per_year_grouply= movies_per_year.groupby((movies_per_year//10)*10).sum()\n",
    "print(movies_per_year_grouply)"
   ]
  },
  {
   "cell_type": "code",
   "execution_count": 97,
   "id": "3ebb1830-96cd-4b56-a69b-a55017107663",
   "metadata": {
    "scrolled": true
   },
   "outputs": [
    {
     "data": {
      "image/png": "[encoded data removed]",
      "text/plain": [
       "<Figure size 1200x600 with 1 Axes>"
      ]
     },
     "metadata": {},
     "output_type": "display_data"
    }
   ],
   "source": [
    "movies_per_year_grouply= movies_per_year.groupby((movies_per_year//10)*10).sum()\n",
    "movies_per_year_grouply.plot(kind='bar',figsize=(12,6), title='Movies Release per Year Range ')\n",
    "plt.xlabel('Decade')\n",
    "plt.ylabel('Number of Movies')\n",
    "plt.tight_layout()\n",
    "plt.show()"
   ]
  },
  {
   "cell_type": "code",
   "execution_count": 98,
   "id": "acd298cf-0f5e-4d1e-8608-2ee83e8368c1",
   "metadata": {},
   "outputs": [],
   "source": [
    "start_year = movies_per_year.index.min() // 10 * 10\n",
    "end_year = movies_per_year.index.max() // 10 * 10 + 10\n",
    "\n",
    "bins = list(range(start_year, end_year + 1, 10))\n",
    "labels = [f\"{bins[i]} - {bins[i+1]}\" for i in range(len(bins) - 1)]"
   ]
  },
  {
   "cell_type": "code",
   "execution_count": 99,
   "id": "0a839e1f-1753-4792-8d36-fc5a39b5e94c",
   "metadata": {},
   "outputs": [],
   "source": [
    "decade_group = pd.cut(movies_per_year.index, bins=bins, labels=labels, right=False)"
   ]
  },
  {
   "cell_type": "code",
   "execution_count": 100,
   "id": "603edd2a-2422-40e1-b67f-a5e5160f5a4e",
   "metadata": {},
   "outputs": [
    {
     "name": "stderr",
     "output_type": "stream",
     "text": [
      "C:\\Users\\ASUS\\AppData\\Local\\Temp\\ipykernel_28336\\1216759760.py:1: FutureWarning: The default of observed=False is deprecated and will be changed to True in a future version of pandas. Pass observed=False to retain current behavior or observed=True to adopt the future default and silence this warning.\n",
      "  movies_by_decade = movies_per_year.groupby(decade_group).sum()\n"
     ]
    }
   ],
   "source": [
    "movies_by_decade = movies_per_year.groupby(decade_group).sum()"
   ]
  },
  {
   "cell_type": "code",
   "execution_count": 101,
   "id": "146d2a83-ec40-4051-92bb-897db28a4ca6",
   "metadata": {},
   "outputs": [
    {
     "data": {
      "image/png": "[encoded data removed]",
      "text/plain": [
       "<Figure size 1200x600 with 1 Axes>"
      ]
     },
     "metadata": {},
     "output_type": "display_data"
    }
   ],
   "source": [
    "movies_by_decade.plot(kind='bar', figsize=(12, 6), title='Movies Released per Decade')\n",
    "plt.xlabel('Decade')\n",
    "plt.ylabel('Number of Movies')\n",
    "plt.tight_layout()\n",
    "plt.show()"
   ]
  },
  {
   "cell_type": "code",
   "execution_count": 102,
   "id": "e7259cee-12b5-489d-be95-aa5b165f85fa",
   "metadata": {},
   "outputs": [],
   "source": [
    "avg_rating_by_year=df.groupby('Year')['Vote_Average'].mean()"
   ]
  },
  {
   "cell_type": "code",
   "execution_count": 103,
   "id": "96e66ed4-1b98-4da9-9fd5-ed868ec4def4",
   "metadata": {},
   "outputs": [
    {
     "data": {
      "text/plain": [
       "<Axes: title={'center': 'avg rating by year'}, xlabel='Year'>"
      ]
     },
     "execution_count": 103,
     "metadata": {},
     "output_type": "execute_result"
    },
    {
     "data": {
      "image/png": "[encoded data removed]",
      "text/plain": [
       "<Figure size 1200x600 with 1 Axes>"
      ]
     },
     "metadata": {},
     "output_type": "display_data"
    }
   ],
   "source": [
    "avg_rating_by_year.plot(kind='bar', figsize=(12,6),title='avg rating by year')"
   ]
  },
  {
   "cell_type": "code",
   "execution_count": 104,
   "id": "947fa532-0730-40bd-a10d-1dedacba3a29",
   "metadata": {},
   "outputs": [
    {
     "data": {
      "text/plain": [
       "Index([1902, 1920, 1921, 1922, 1925, 1926, 1927, 1929, 1930, 1931,\n",
       "       ...\n",
       "       2015, 2016, 2017, 2018, 2019, 2020, 2021, 2022, 2023, 2024],\n",
       "      dtype='int32', name='Year', length=102)"
      ]
     },
     "execution_count": 104,
     "metadata": {},
     "output_type": "execute_result"
    }
   ],
   "source": [
    "avg_rating_by_year.index"
   ]
  },
  {
   "cell_type": "code",
   "execution_count": 105,
   "id": "f1c97bdd-c920-430a-b27c-15a28b24cdcb",
   "metadata": {},
   "outputs": [],
   "source": [
    "start_rating = (avg_rating_by_year.index.min()//10)*10\n",
    "end_rating =(avg_rating_by_year.index.max()//10)*10+10"
   ]
  },
  {
   "cell_type": "code",
   "execution_count": 106,
   "id": "a180df7d-ae23-4827-9da2-12b57c8b5e77",
   "metadata": {},
   "outputs": [],
   "source": [
    "bins=list(range(start_rating, end_rating+1, 10))\n",
    "labels=[f\"{bins[i]}- {bins[i+1]}\" for i in range(len(bins)-1)]"
   ]
  },
  {
   "cell_type": "code",
   "execution_count": 107,
   "id": "87ba6e5c-5d8b-4752-842d-334b75a645e4",
   "metadata": {},
   "outputs": [],
   "source": [
    "avg_rating_group= pd.cut( avg_rating_by_year.index, bins= bins, labels=labels, right=False )"
   ]
  },
  {
   "cell_type": "code",
   "execution_count": 108,
   "id": "bec295ab-3a25-4dad-aa46-49d7eaebff3e",
   "metadata": {},
   "outputs": [
    {
     "name": "stderr",
     "output_type": "stream",
     "text": [
      "C:\\Users\\ASUS\\AppData\\Local\\Temp\\ipykernel_28336\\2198428811.py:1: FutureWarning: The default of observed=False is deprecated and will be changed to True in a future version of pandas. Pass observed=False to retain current behavior or observed=True to adopt the future default and silence this warning.\n",
      "  avg_rating_by_group= avg_rating_by_year.groupby(avg_rating_group).sum()\n"
     ]
    }
   ],
   "source": [
    "avg_rating_by_group= avg_rating_by_year.groupby(avg_rating_group).sum()"
   ]
  },
  {
   "cell_type": "code",
   "execution_count": 109,
   "id": "8e8d8185-6633-4045-a836-1d397e409b53",
   "metadata": {},
   "outputs": [
    {
     "data": {
      "text/plain": [
       "Text(0, 0.5, 'Decade')"
      ]
     },
     "execution_count": 109,
     "metadata": {},
     "output_type": "execute_result"
    },
    {
     "data": {
      "image/png": "[encoded data removed]",
      "text/plain": [
       "<Figure size 1200x600 with 1 Axes>"
      ]
     },
     "metadata": {},
     "output_type": "display_data"
    }
   ],
   "source": [
    "avg_rating_by_group.plot(kind='bar', figsize=(12, 6), title='Movies Vote Average per Decade')\n",
    "plt.xlabel('Years')\n",
    "plt.ylabel('Decade')\n"
   ]
  },
  {
   "cell_type": "code",
   "execution_count": 110,
   "id": "2fad8a4b-2313-4672-8d30-6876a3a6e1f8",
   "metadata": {},
   "outputs": [
    {
     "name": "stdout",
     "output_type": "stream",
     "text": [
      "Most common Genre\n",
      "Genre\n",
      "Drama                     466\n",
      "Comedy                    403\n",
      "Drama, Romance            248\n",
      "Horror                    238\n",
      "Horror, Thriller          199\n",
      "Comedy, Romance           196\n",
      "Documentary               139\n",
      "Comedy, Drama             137\n",
      "Action, Thriller          125\n",
      "Comedy, Drama, Romance    107\n",
      "Name: count, dtype: int64\n"
     ]
    }
   ],
   "source": [
    "print(\"Most common Genre\")\n",
    "print(df['Genre'].value_counts().head(10))"
   ]
  },
  {
   "cell_type": "code",
   "execution_count": 111,
   "id": "b45d5d89-5049-430e-8788-019134ed992e",
   "metadata": {},
   "outputs": [
    {
     "data": {
      "text/plain": [
       "<Axes: title={'center': 'Most Watched Genre'}, xlabel='Genre'>"
      ]
     },
     "execution_count": 111,
     "metadata": {},
     "output_type": "execute_result"
    },
    {
     "data": {
      "image/png": "[encoded data removed]",
      "text/plain": [
       "<Figure size 1200x600 with 1 Axes>"
      ]
     },
     "metadata": {},
     "output_type": "display_data"
    }
   ],
   "source": [
    "most_watched_genre=df['Genre'].value_counts().head(10)\n",
    "most_watched_genre.plot(kind='bar', figsize=(12, 6), title='Most Watched Genre')"
   ]
  },
  {
   "cell_type": "code",
   "execution_count": 112,
   "id": "1e2f717c-818a-4dcf-819d-931e04ab0955",
   "metadata": {},
   "outputs": [],
   "source": [
    "#Average Rating per genre ordered in decreasing order"
   ]
  },
  {
   "cell_type": "code",
   "execution_count": 113,
   "id": "51d6aa9d-4df1-43ee-8a6b-7e214262ea78",
   "metadata": {},
   "outputs": [
    {
     "name": "stdout",
     "output_type": "stream",
     "text": [
      "Genre\n",
      "Family, Comedy, Mystery, Animation                      8.8\n",
      "Animation, Fantasy, Action, Adventure                   8.7\n",
      "Romance, Animation                                      8.6\n",
      "Fantasy, Drama, Crime                                   8.5\n",
      "Fantasy, Adventure, Mystery, Animation                  8.5\n",
      "                                                       ... \n",
      "Horror, Romance, Thriller                               0.0\n",
      "Animation, Science Fiction, Adventure, Action, Drama    0.0\n",
      "Action, Animation, Comedy, Family                       0.0\n",
      "Action, Adventure, Science Fiction, Fantasy, Drama      0.0\n",
      "Animation, Comedy, Action, Family, Crime                0.0\n",
      "Name: Vote_Average, Length: 2337, dtype: float64\n"
     ]
    }
   ],
   "source": [
    "avg_rating_value= df.groupby('Genre')['Vote_Average'].mean().sort_values(ascending=False)\n",
    "print(avg_rating_value)"
   ]
  },
  {
   "cell_type": "code",
   "execution_count": 114,
   "id": "3445b5c4-5a21-438a-af3a-50d31b00c54f",
   "metadata": {
    "scrolled": true
   },
   "outputs": [
    {
     "name": "stdout",
     "output_type": "stream",
     "text": [
      "      Year                                 Genre  Popularity\n",
      "0     1902   Adventure, Fantasy, Science Fiction      18.356\n",
      "1     1920        Drama, Horror, Thriller, Crime      17.858\n",
      "2     1921                         Comedy, Drama      14.338\n",
      "3     1921                Drama, Fantasy, Horror      15.371\n",
      "4     1922          Documentary, Horror, History      15.164\n",
      "...    ...                                   ...         ...\n",
      "6494  2023    Action, Science Fiction, Adventure      44.599\n",
      "6495  2023            Adventure, Action, Fantasy      59.539\n",
      "6496  2023   Adventure, Family, Fantasy, Romance      14.016\n",
      "6497  2023    Adventure, Science Fiction, Comedy      17.050\n",
      "6498  2024  Animation, Family, Comedy, Adventure      27.987\n",
      "\n",
      "[6499 rows x 3 columns]\n"
     ]
    }
   ],
   "source": [
    "#most popular genre by year\n",
    "genre_year= df.groupby(['Year', 'Genre'])['Popularity'].mean().reset_index()\n",
    "print(genre_year)"
   ]
  },
  {
   "cell_type": "code",
   "execution_count": 115,
   "id": "f50103ee-93c4-42c5-989b-023cb27eaf67",
   "metadata": {},
   "outputs": [],
   "source": [
    "top_genre_per_year=genre_year.loc[genre_year.groupby('Year')['Popularity'].idxmax()]"
   ]
  },
  {
   "cell_type": "code",
   "execution_count": 116,
   "id": "d53a3708-de11-4c48-8325-297d3fd0d461",
   "metadata": {},
   "outputs": [
    {
     "name": "stdout",
     "output_type": "stream",
     "text": [
      "      Year                                  Genre  Popularity\n",
      "0     1902    Adventure, Fantasy, Science Fiction      18.356\n",
      "1     1920         Drama, Horror, Thriller, Crime      17.858\n",
      "3     1921                 Drama, Fantasy, Horror      15.371\n",
      "5     1922                        Fantasy, Horror      28.638\n",
      "6     1925                         Drama, History      18.663\n",
      "...    ...                                    ...         ...\n",
      "5852  2020  Animation, Action, Adventure, Fantasy     845.992\n",
      "6071  2021       Action, Adventure, Thriller, War    1895.511\n",
      "6427  2022               Crime, Mystery, Thriller    3827.658\n",
      "6493  2023                          Action, Crime     181.216\n",
      "6498  2024   Animation, Family, Comedy, Adventure      27.987\n",
      "\n",
      "[102 rows x 3 columns]\n"
     ]
    }
   ],
   "source": [
    "print(top_genre_per_year[['Year','Genre','Popularity']])"
   ]
  },
  {
   "cell_type": "code",
   "execution_count": 117,
   "id": "5ed553a6-05e1-491e-b5a1-c0e9cabe3e79",
   "metadata": {},
   "outputs": [
    {
     "name": "stdout",
     "output_type": "stream",
     "text": [
      "<class 'pandas.core.frame.DataFrame'>\n",
      "RangeIndex: 9827 entries, 0 to 9826\n",
      "Data columns (total 10 columns):\n",
      " #   Column             Non-Null Count  Dtype         \n",
      "---  ------             --------------  -----         \n",
      " 0   Release_Date       9827 non-null   datetime64[ns]\n",
      " 1   Title              9827 non-null   object        \n",
      " 2   Overview           9827 non-null   object        \n",
      " 3   Popularity         9827 non-null   float64       \n",
      " 4   Vote_Count         9827 non-null   int64         \n",
      " 5   Vote_Average       9827 non-null   float64       \n",
      " 6   Original_Language  9827 non-null   object        \n",
      " 7   Genre              9827 non-null   object        \n",
      " 8   Poster_Url         9827 non-null   object        \n",
      " 9   Year               9827 non-null   int32         \n",
      "dtypes: datetime64[ns](1), float64(2), int32(1), int64(1), object(5)\n",
      "memory usage: 729.5+ KB\n"
     ]
    }
   ],
   "source": [
    "df.info()\n"
   ]
  },
  {
   "cell_type": "code",
   "execution_count": 118,
   "id": "b8b56b6e-76cb-434c-a70c-2714164b4e3d",
   "metadata": {},
   "outputs": [
    {
     "name": "stdout",
     "output_type": "stream",
     "text": [
      "                                  Genre  Year  Count\n",
      "0                                Action  1971      1\n",
      "1                                Action  1973      1\n",
      "2                                Action  1974      1\n",
      "3                                Action  1976      1\n",
      "4                                Action  1980      1\n",
      "...                                 ...   ...    ...\n",
      "6494                    Western, Horror  2014      1\n",
      "6495                    Western, Horror  2015      1\n",
      "6496  Western, Mystery, Thriller, Drama  2016      1\n",
      "6497                  Western, Thriller  1952      1\n",
      "6498                  Western, Thriller  2021      1\n",
      "\n",
      "[6499 rows x 3 columns]\n"
     ]
    }
   ],
   "source": [
    "genre_count= df.groupby(['Genre','Year']).size().reset_index(name='Count')\n",
    "print(genre_count)"
   ]
  },
  {
   "cell_type": "code",
   "execution_count": 119,
   "id": "1221f56d-c532-41c1-98bc-b51ffa52b10f",
   "metadata": {},
   "outputs": [
    {
     "name": "stdout",
     "output_type": "stream",
     "text": [
      "      Year                                  Genre  Popularity\n",
      "0     1902    Adventure, Fantasy, Science Fiction      18.356\n",
      "1     1920         Drama, Horror, Thriller, Crime      17.858\n",
      "3     1921                 Drama, Fantasy, Horror      15.371\n",
      "5     1922                        Fantasy, Horror      28.638\n",
      "6     1925                         Drama, History      18.663\n",
      "...    ...                                    ...         ...\n",
      "5852  2020  Animation, Action, Adventure, Fantasy     845.992\n",
      "6071  2021       Action, Adventure, Thriller, War    1895.511\n",
      "6427  2022               Crime, Mystery, Thriller    3827.658\n",
      "6493  2023                          Action, Crime     181.216\n",
      "6498  2024   Animation, Family, Comedy, Adventure      27.987\n",
      "\n",
      "[102 rows x 3 columns]\n"
     ]
    }
   ],
   "source": [
    "genre_count_sorted= genre_count.sort_values(['Year','Count'], ascending=[True, False])\n",
    "genre_count_per_year=genre_count_sorted.drop_duplicates(subset='Year')\n",
    "# top_genre_per_year = top_genre_per_year.sort_values('Year')\n",
    "print(top_genre_per_year)"
   ]
  },
  {
   "cell_type": "code",
   "execution_count": 120,
   "id": "41658602-f123-4ff9-9ef6-c93c486a2ab2",
   "metadata": {},
   "outputs": [],
   "source": [
    "def catigorize_col(df, col, labels):\n",
    "    edges=[df[col].describe()['min'],\n",
    "           df[col].describe()['25%'],\n",
    "           df[col].describe()['50%'],\n",
    "           df[col].describe()['75%'],\n",
    "           df[col].describe()['max']]\n",
    "    df[col]= pd.cut(df[col], edges, labels=labels, duplicates='drop')\n",
    "    return df"
   ]
  },
  {
   "cell_type": "code",
   "execution_count": 121,
   "id": "ec1f8f48-ae09-463f-8597-8cc4d3ce0d47",
   "metadata": {},
   "outputs": [
    {
     "data": {
      "text/plain": [
       "['popular', 'below_avg', 'above_avg', 'not_popular', NaN]\n",
       "Categories (4, object): ['not_popular' < 'below_avg' < 'above_avg' < 'popular']"
      ]
     },
     "execution_count": 121,
     "metadata": {},
     "output_type": "execute_result"
    }
   ],
   "source": [
    "labels=['not_popular','below_avg', 'above_avg','popular']\n",
    "\n",
    "catigorize_col(df, 'Vote_Average' ,labels)\n",
    "\n",
    "df['Vote_Average'].unique()"
   ]
  },
  {
   "cell_type": "code",
   "execution_count": 122,
   "id": "b322eaca-06c1-4857-b889-679054588ad6",
   "metadata": {},
   "outputs": [
    {
     "data": {
      "text/html": [
       "<div>\n",
       "<style scoped>\n",
       "    .dataframe tbody tr th:only-of-type {\n",
       "        vertical-align: middle;\n",
       "    }\n",
       "\n",
       "    .dataframe tbody tr th {\n",
       "        vertical-align: top;\n",
       "    }\n",
       "\n",
       "    .dataframe thead th {\n",
       "        text-align: right;\n",
       "    }\n",
       "</style>\n",
       "<table border=\"1\" class=\"dataframe\">\n",
       "  <thead>\n",
       "    <tr style=\"text-align: right;\">\n",
       "      <th></th>\n",
       "      <th>Release_Date</th>\n",
       "      <th>Title</th>\n",
       "      <th>Overview</th>\n",
       "      <th>Popularity</th>\n",
       "      <th>Vote_Count</th>\n",
       "      <th>Vote_Average</th>\n",
       "      <th>Original_Language</th>\n",
       "      <th>Genre</th>\n",
       "      <th>Poster_Url</th>\n",
       "      <th>Year</th>\n",
       "    </tr>\n",
       "  </thead>\n",
       "  <tbody>\n",
       "    <tr>\n",
       "      <th>0</th>\n",
       "      <td>2021-12-15</td>\n",
       "      <td>Spider-Man: No Way Home</td>\n",
       "      <td>Peter Parker is unmasked and no longer able to...</td>\n",
       "      <td>5083.954</td>\n",
       "      <td>8940</td>\n",
       "      <td>popular</td>\n",
       "      <td>en</td>\n",
       "      <td>Action, Adventure, Science Fiction</td>\n",
       "      <td>https://image.tmdb.org/t/p/original/1g0dhYtq4i...</td>\n",
       "      <td>2021</td>\n",
       "    </tr>\n",
       "    <tr>\n",
       "      <th>1</th>\n",
       "      <td>2022-03-01</td>\n",
       "      <td>The Batman</td>\n",
       "      <td>In his second year of fighting crime, Batman u...</td>\n",
       "      <td>3827.658</td>\n",
       "      <td>1151</td>\n",
       "      <td>popular</td>\n",
       "      <td>en</td>\n",
       "      <td>Crime, Mystery, Thriller</td>\n",
       "      <td>https://image.tmdb.org/t/p/original/74xTEgt7R3...</td>\n",
       "      <td>2022</td>\n",
       "    </tr>\n",
       "    <tr>\n",
       "      <th>2</th>\n",
       "      <td>2022-02-25</td>\n",
       "      <td>No Exit</td>\n",
       "      <td>Stranded at a rest stop in the mountains durin...</td>\n",
       "      <td>2618.087</td>\n",
       "      <td>122</td>\n",
       "      <td>below_avg</td>\n",
       "      <td>en</td>\n",
       "      <td>Thriller</td>\n",
       "      <td>https://image.tmdb.org/t/p/original/vDHsLnOWKl...</td>\n",
       "      <td>2022</td>\n",
       "    </tr>\n",
       "    <tr>\n",
       "      <th>3</th>\n",
       "      <td>2021-11-24</td>\n",
       "      <td>Encanto</td>\n",
       "      <td>The tale of an extraordinary family, the Madri...</td>\n",
       "      <td>2402.201</td>\n",
       "      <td>5076</td>\n",
       "      <td>popular</td>\n",
       "      <td>en</td>\n",
       "      <td>Animation, Comedy, Family, Fantasy</td>\n",
       "      <td>https://image.tmdb.org/t/p/original/4j0PNHkMr5...</td>\n",
       "      <td>2021</td>\n",
       "    </tr>\n",
       "    <tr>\n",
       "      <th>4</th>\n",
       "      <td>2021-12-22</td>\n",
       "      <td>The King's Man</td>\n",
       "      <td>As a collection of history's worst tyrants and...</td>\n",
       "      <td>1895.511</td>\n",
       "      <td>1793</td>\n",
       "      <td>above_avg</td>\n",
       "      <td>en</td>\n",
       "      <td>Action, Adventure, Thriller, War</td>\n",
       "      <td>https://image.tmdb.org/t/p/original/aq4Pwv5Xeu...</td>\n",
       "      <td>2021</td>\n",
       "    </tr>\n",
       "  </tbody>\n",
       "</table>\n",
       "</div>"
      ],
      "text/plain": [
       "  Release_Date                    Title  \\\n",
       "0   2021-12-15  Spider-Man: No Way Home   \n",
       "1   2022-03-01               The Batman   \n",
       "2   2022-02-25                  No Exit   \n",
       "3   2021-11-24                  Encanto   \n",
       "4   2021-12-22           The King's Man   \n",
       "\n",
       "                                            Overview  Popularity  Vote_Count  \\\n",
       "0  Peter Parker is unmasked and no longer able to...    5083.954        8940   \n",
       "1  In his second year of fighting crime, Batman u...    3827.658        1151   \n",
       "2  Stranded at a rest stop in the mountains durin...    2618.087         122   \n",
       "3  The tale of an extraordinary family, the Madri...    2402.201        5076   \n",
       "4  As a collection of history's worst tyrants and...    1895.511        1793   \n",
       "\n",
       "  Vote_Average Original_Language                               Genre  \\\n",
       "0      popular                en  Action, Adventure, Science Fiction   \n",
       "1      popular                en            Crime, Mystery, Thriller   \n",
       "2    below_avg                en                            Thriller   \n",
       "3      popular                en  Animation, Comedy, Family, Fantasy   \n",
       "4    above_avg                en    Action, Adventure, Thriller, War   \n",
       "\n",
       "                                          Poster_Url  Year  \n",
       "0  https://image.tmdb.org/t/p/original/1g0dhYtq4i...  2021  \n",
       "1  https://image.tmdb.org/t/p/original/74xTEgt7R3...  2022  \n",
       "2  https://image.tmdb.org/t/p/original/vDHsLnOWKl...  2022  \n",
       "3  https://image.tmdb.org/t/p/original/4j0PNHkMr5...  2021  \n",
       "4  https://image.tmdb.org/t/p/original/aq4Pwv5Xeu...  2021  "
      ]
     },
     "execution_count": 122,
     "metadata": {},
     "output_type": "execute_result"
    }
   ],
   "source": [
    "df.head()"
   ]
  },
  {
   "cell_type": "code",
   "execution_count": 123,
   "id": "31fbbf10-61fe-42d3-9625-e1fa99b90fb2",
   "metadata": {},
   "outputs": [
    {
     "data": {
      "text/plain": [
       "Vote_Average\n",
       "not_popular    2467\n",
       "popular        2450\n",
       "above_avg      2412\n",
       "below_avg      2398\n",
       "Name: count, dtype: int64"
      ]
     },
     "execution_count": 123,
     "metadata": {},
     "output_type": "execute_result"
    }
   ],
   "source": [
    "df['Vote_Average'].value_counts()"
   ]
  },
  {
   "cell_type": "code",
   "execution_count": 124,
   "id": "b1639464-146a-4878-8ef9-77fc01f4378e",
   "metadata": {},
   "outputs": [],
   "source": [
    "df.dropna(inplace=True)"
   ]
  },
  {
   "cell_type": "code",
   "execution_count": 125,
   "id": "d60e988b-e4c5-40eb-8c06-9ec10bdb19c6",
   "metadata": {},
   "outputs": [
    {
     "data": {
      "text/plain": [
       "Release_Date         0\n",
       "Title                0\n",
       "Overview             0\n",
       "Popularity           0\n",
       "Vote_Count           0\n",
       "Vote_Average         0\n",
       "Original_Language    0\n",
       "Genre                0\n",
       "Poster_Url           0\n",
       "Year                 0\n",
       "dtype: int64"
      ]
     },
     "execution_count": 125,
     "metadata": {},
     "output_type": "execute_result"
    }
   ],
   "source": [
    "df.isna().sum()"
   ]
  },
  {
   "cell_type": "code",
   "execution_count": 175,
   "id": "1280c0a7-7cd1-44e6-824a-1ac679655387",
   "metadata": {},
   "outputs": [
    {
     "data": {
      "text/html": [
       "<div>\n",
       "<style scoped>\n",
       "    .dataframe tbody tr th:only-of-type {\n",
       "        vertical-align: middle;\n",
       "    }\n",
       "\n",
       "    .dataframe tbody tr th {\n",
       "        vertical-align: top;\n",
       "    }\n",
       "\n",
       "    .dataframe thead th {\n",
       "        text-align: right;\n",
       "    }\n",
       "</style>\n",
       "<table border=\"1\" class=\"dataframe\">\n",
       "  <thead>\n",
       "    <tr style=\"text-align: right;\">\n",
       "      <th></th>\n",
       "      <th>Release_Date</th>\n",
       "      <th>Title</th>\n",
       "      <th>Overview</th>\n",
       "      <th>Popularity</th>\n",
       "      <th>Vote_Count</th>\n",
       "      <th>Vote_Average</th>\n",
       "      <th>Original_Language</th>\n",
       "      <th>Genre</th>\n",
       "      <th>Poster_Url</th>\n",
       "      <th>Year</th>\n",
       "    </tr>\n",
       "  </thead>\n",
       "  <tbody>\n",
       "    <tr>\n",
       "      <th>0</th>\n",
       "      <td>2021-12-15</td>\n",
       "      <td>Spider-Man: No Way Home</td>\n",
       "      <td>Peter Parker is unmasked and no longer able to...</td>\n",
       "      <td>5083.954</td>\n",
       "      <td>8940</td>\n",
       "      <td>popular</td>\n",
       "      <td>en</td>\n",
       "      <td>Action</td>\n",
       "      <td>https://image.tmdb.org/t/p/original/1g0dhYtq4i...</td>\n",
       "      <td>2021</td>\n",
       "    </tr>\n",
       "    <tr>\n",
       "      <th>1</th>\n",
       "      <td>2021-12-15</td>\n",
       "      <td>Spider-Man: No Way Home</td>\n",
       "      <td>Peter Parker is unmasked and no longer able to...</td>\n",
       "      <td>5083.954</td>\n",
       "      <td>8940</td>\n",
       "      <td>popular</td>\n",
       "      <td>en</td>\n",
       "      <td>Adventure</td>\n",
       "      <td>https://image.tmdb.org/t/p/original/1g0dhYtq4i...</td>\n",
       "      <td>2021</td>\n",
       "    </tr>\n",
       "    <tr>\n",
       "      <th>2</th>\n",
       "      <td>2021-12-15</td>\n",
       "      <td>Spider-Man: No Way Home</td>\n",
       "      <td>Peter Parker is unmasked and no longer able to...</td>\n",
       "      <td>5083.954</td>\n",
       "      <td>8940</td>\n",
       "      <td>popular</td>\n",
       "      <td>en</td>\n",
       "      <td>Science Fiction</td>\n",
       "      <td>https://image.tmdb.org/t/p/original/1g0dhYtq4i...</td>\n",
       "      <td>2021</td>\n",
       "    </tr>\n",
       "    <tr>\n",
       "      <th>3</th>\n",
       "      <td>2022-03-01</td>\n",
       "      <td>The Batman</td>\n",
       "      <td>In his second year of fighting crime, Batman u...</td>\n",
       "      <td>3827.658</td>\n",
       "      <td>1151</td>\n",
       "      <td>popular</td>\n",
       "      <td>en</td>\n",
       "      <td>Crime</td>\n",
       "      <td>https://image.tmdb.org/t/p/original/74xTEgt7R3...</td>\n",
       "      <td>2022</td>\n",
       "    </tr>\n",
       "    <tr>\n",
       "      <th>4</th>\n",
       "      <td>2022-03-01</td>\n",
       "      <td>The Batman</td>\n",
       "      <td>In his second year of fighting crime, Batman u...</td>\n",
       "      <td>3827.658</td>\n",
       "      <td>1151</td>\n",
       "      <td>popular</td>\n",
       "      <td>en</td>\n",
       "      <td>Mystery</td>\n",
       "      <td>https://image.tmdb.org/t/p/original/74xTEgt7R3...</td>\n",
       "      <td>2022</td>\n",
       "    </tr>\n",
       "  </tbody>\n",
       "</table>\n",
       "</div>"
      ],
      "text/plain": [
       "  Release_Date                    Title  \\\n",
       "0   2021-12-15  Spider-Man: No Way Home   \n",
       "1   2021-12-15  Spider-Man: No Way Home   \n",
       "2   2021-12-15  Spider-Man: No Way Home   \n",
       "3   2022-03-01               The Batman   \n",
       "4   2022-03-01               The Batman   \n",
       "\n",
       "                                            Overview  Popularity  Vote_Count  \\\n",
       "0  Peter Parker is unmasked and no longer able to...    5083.954        8940   \n",
       "1  Peter Parker is unmasked and no longer able to...    5083.954        8940   \n",
       "2  Peter Parker is unmasked and no longer able to...    5083.954        8940   \n",
       "3  In his second year of fighting crime, Batman u...    3827.658        1151   \n",
       "4  In his second year of fighting crime, Batman u...    3827.658        1151   \n",
       "\n",
       "  Vote_Average Original_Language            Genre  \\\n",
       "0      popular                en           Action   \n",
       "1      popular                en        Adventure   \n",
       "2      popular                en  Science Fiction   \n",
       "3      popular                en            Crime   \n",
       "4      popular                en          Mystery   \n",
       "\n",
       "                                          Poster_Url  Year  \n",
       "0  https://image.tmdb.org/t/p/original/1g0dhYtq4i...  2021  \n",
       "1  https://image.tmdb.org/t/p/original/1g0dhYtq4i...  2021  \n",
       "2  https://image.tmdb.org/t/p/original/1g0dhYtq4i...  2021  \n",
       "3  https://image.tmdb.org/t/p/original/74xTEgt7R3...  2022  \n",
       "4  https://image.tmdb.org/t/p/original/74xTEgt7R3...  2022  "
      ]
     },
     "execution_count": 175,
     "metadata": {},
     "output_type": "execute_result"
    }
   ],
   "source": [
    "df['Genre']= df['Genre'].str.split(', ')\n",
    "df=df.explode('Genre').reset_index(drop=True)\n",
    "df.head()"
   ]
  },
  {
   "cell_type": "code",
   "execution_count": 179,
   "id": "f2846870-0c04-4423-949b-bcd711fdd191",
   "metadata": {},
   "outputs": [
    {
     "data": {
      "text/plain": [
       "CategoricalDtype(categories=['Action', 'Adventure', 'Animation', 'Comedy', 'Crime',\n",
       "                  'Documentary', 'Drama', 'Family', 'Fantasy', 'History',\n",
       "                  'Horror', 'Music', 'Mystery', 'Romance', 'Science Fiction',\n",
       "                  'TV Movie', 'Thriller', 'War', 'Western'],\n",
       ", ordered=False, categories_dtype=object)"
      ]
     },
     "execution_count": 179,
     "metadata": {},
     "output_type": "execute_result"
    }
   ],
   "source": [
    "df['Genre']=df['Genre'].astype('category')\n",
    "df['Genre'].dtypes"
   ]
  },
  {
   "cell_type": "code",
   "execution_count": 181,
   "id": "8436133a-8b8c-4da2-a2f1-f9623ae41dbb",
   "metadata": {},
   "outputs": [
    {
     "name": "stdout",
     "output_type": "stream",
     "text": [
      "<class 'pandas.core.frame.DataFrame'>\n",
      "RangeIndex: 25552 entries, 0 to 25551\n",
      "Data columns (total 10 columns):\n",
      " #   Column             Non-Null Count  Dtype         \n",
      "---  ------             --------------  -----         \n",
      " 0   Release_Date       25552 non-null  datetime64[ns]\n",
      " 1   Title              25552 non-null  object        \n",
      " 2   Overview           25552 non-null  object        \n",
      " 3   Popularity         25552 non-null  float64       \n",
      " 4   Vote_Count         25552 non-null  int64         \n",
      " 5   Vote_Average       25552 non-null  category      \n",
      " 6   Original_Language  25552 non-null  object        \n",
      " 7   Genre              25552 non-null  category      \n",
      " 8   Poster_Url         25552 non-null  object        \n",
      " 9   Year               25552 non-null  int32         \n",
      "dtypes: category(2), datetime64[ns](1), float64(1), int32(1), int64(1), object(4)\n",
      "memory usage: 1.5+ MB\n"
     ]
    }
   ],
   "source": [
    "df.info()"
   ]
  },
  {
   "cell_type": "code",
   "execution_count": 183,
   "id": "e954ed9c-c967-490b-9269-287a471d0256",
   "metadata": {},
   "outputs": [
    {
     "data": {
      "text/plain": [
       "Release_Date         5846\n",
       "Title                9415\n",
       "Overview             9722\n",
       "Popularity           8088\n",
       "Vote_Count           3265\n",
       "Vote_Average            4\n",
       "Original_Language      42\n",
       "Genre                  19\n",
       "Poster_Url           9727\n",
       "Year                  100\n",
       "dtype: int64"
      ]
     },
     "execution_count": 183,
     "metadata": {},
     "output_type": "execute_result"
    }
   ],
   "source": [
    "df.nunique()"
   ]
  },
  {
   "cell_type": "code",
   "execution_count": 187,
   "id": "3a0885c0-dd27-4dfd-99b8-9e04f7e2d418",
   "metadata": {},
   "outputs": [],
   "source": [
    "sns.set_style('whitegrid')"
   ]
  },
  {
   "cell_type": "code",
   "execution_count": 189,
   "id": "50455e76-c23b-4be9-a7b2-d73077c63fd4",
   "metadata": {},
   "outputs": [
    {
     "data": {
      "text/plain": [
       "count     25552\n",
       "unique       19\n",
       "top       Drama\n",
       "freq       3715\n",
       "Name: Genre, dtype: object"
      ]
     },
     "execution_count": 189,
     "metadata": {},
     "output_type": "execute_result"
    }
   ],
   "source": [
    "df['Genre'].describe()"
   ]
  },
  {
   "cell_type": "code",
   "execution_count": 199,
   "id": "3cb6bb09-19ca-4230-88e2-f436a95372c3",
   "metadata": {},
   "outputs": [
    {
     "data": {
      "text/plain": [
       "Text(0.5, 1.0, 'Genre column distribution')"
      ]
     },
     "execution_count": 199,
     "metadata": {},
     "output_type": "execute_result"
    },
    {
     "data": {
      "image/png": "[encoded data removed]",
      "text/plain": [
       "<Figure size 511.111x500 with 1 Axes>"
      ]
     },
     "metadata": {},
     "output_type": "display_data"
    }
   ],
   "source": [
    "sns.catplot(y='Genre', data=df, kind='count', order=df['Genre'].value_counts().index)\n",
    "plt.title('Genre column distribution')"
   ]
  },
  {
   "cell_type": "code",
   "execution_count": 205,
   "id": "51282644-aa2a-483b-9100-f42ad3229586",
   "metadata": {},
   "outputs": [
    {
     "data": {
      "text/plain": [
       "<seaborn.axisgrid.FacetGrid at 0x207722e17c0>"
      ]
     },
     "execution_count": 205,
     "metadata": {},
     "output_type": "execute_result"
    },
    {
     "data": {
      "image/png": "[encoded data removed]",
      "text/plain": [
       "<Figure size 511.111x500 with 1 Axes>"
      ]
     },
     "metadata": {},
     "output_type": "display_data"
    }
   ],
   "source": [
    "sns.catplot(y='Vote_Average', data = df, kind='count', order= df['Vote_Average'].value_counts().index )"
   ]
  },
  {
   "cell_type": "code",
   "execution_count": 207,
   "id": "6d9a9348-e82b-4d04-8251-a9e87c303683",
   "metadata": {},
   "outputs": [],
   "source": [
    "# what movie got the highest popularity? what is the genre?\n"
   ]
  },
  {
   "cell_type": "code",
   "execution_count": 211,
   "id": "603bd8e7-8163-4099-bc60-c538599f456f",
   "metadata": {},
   "outputs": [
    {
     "data": {
      "text/html": [
       "<div>\n",
       "<style scoped>\n",
       "    .dataframe tbody tr th:only-of-type {\n",
       "        vertical-align: middle;\n",
       "    }\n",
       "\n",
       "    .dataframe tbody tr th {\n",
       "        vertical-align: top;\n",
       "    }\n",
       "\n",
       "    .dataframe thead th {\n",
       "        text-align: right;\n",
       "    }\n",
       "</style>\n",
       "<table border=\"1\" class=\"dataframe\">\n",
       "  <thead>\n",
       "    <tr style=\"text-align: right;\">\n",
       "      <th></th>\n",
       "      <th>Release_Date</th>\n",
       "      <th>Title</th>\n",
       "      <th>Overview</th>\n",
       "      <th>Popularity</th>\n",
       "      <th>Vote_Count</th>\n",
       "      <th>Vote_Average</th>\n",
       "      <th>Original_Language</th>\n",
       "      <th>Genre</th>\n",
       "      <th>Poster_Url</th>\n",
       "      <th>Year</th>\n",
       "    </tr>\n",
       "  </thead>\n",
       "  <tbody>\n",
       "    <tr>\n",
       "      <th>0</th>\n",
       "      <td>2021-12-15</td>\n",
       "      <td>Spider-Man: No Way Home</td>\n",
       "      <td>Peter Parker is unmasked and no longer able to...</td>\n",
       "      <td>5083.954</td>\n",
       "      <td>8940</td>\n",
       "      <td>popular</td>\n",
       "      <td>en</td>\n",
       "      <td>Action</td>\n",
       "      <td>https://image.tmdb.org/t/p/original/1g0dhYtq4i...</td>\n",
       "      <td>2021</td>\n",
       "    </tr>\n",
       "    <tr>\n",
       "      <th>1</th>\n",
       "      <td>2021-12-15</td>\n",
       "      <td>Spider-Man: No Way Home</td>\n",
       "      <td>Peter Parker is unmasked and no longer able to...</td>\n",
       "      <td>5083.954</td>\n",
       "      <td>8940</td>\n",
       "      <td>popular</td>\n",
       "      <td>en</td>\n",
       "      <td>Adventure</td>\n",
       "      <td>https://image.tmdb.org/t/p/original/1g0dhYtq4i...</td>\n",
       "      <td>2021</td>\n",
       "    </tr>\n",
       "    <tr>\n",
       "      <th>2</th>\n",
       "      <td>2021-12-15</td>\n",
       "      <td>Spider-Man: No Way Home</td>\n",
       "      <td>Peter Parker is unmasked and no longer able to...</td>\n",
       "      <td>5083.954</td>\n",
       "      <td>8940</td>\n",
       "      <td>popular</td>\n",
       "      <td>en</td>\n",
       "      <td>Science Fiction</td>\n",
       "      <td>https://image.tmdb.org/t/p/original/1g0dhYtq4i...</td>\n",
       "      <td>2021</td>\n",
       "    </tr>\n",
       "  </tbody>\n",
       "</table>\n",
       "</div>"
      ],
      "text/plain": [
       "  Release_Date                    Title  \\\n",
       "0   2021-12-15  Spider-Man: No Way Home   \n",
       "1   2021-12-15  Spider-Man: No Way Home   \n",
       "2   2021-12-15  Spider-Man: No Way Home   \n",
       "\n",
       "                                            Overview  Popularity  Vote_Count  \\\n",
       "0  Peter Parker is unmasked and no longer able to...    5083.954        8940   \n",
       "1  Peter Parker is unmasked and no longer able to...    5083.954        8940   \n",
       "2  Peter Parker is unmasked and no longer able to...    5083.954        8940   \n",
       "\n",
       "  Vote_Average Original_Language            Genre  \\\n",
       "0      popular                en           Action   \n",
       "1      popular                en        Adventure   \n",
       "2      popular                en  Science Fiction   \n",
       "\n",
       "                                          Poster_Url  Year  \n",
       "0  https://image.tmdb.org/t/p/original/1g0dhYtq4i...  2021  \n",
       "1  https://image.tmdb.org/t/p/original/1g0dhYtq4i...  2021  \n",
       "2  https://image.tmdb.org/t/p/original/1g0dhYtq4i...  2021  "
      ]
     },
     "execution_count": 211,
     "metadata": {},
     "output_type": "execute_result"
    }
   ],
   "source": [
    "df[df['Popularity']==df['Popularity'].max()]"
   ]
  },
  {
   "cell_type": "code",
   "execution_count": 213,
   "id": "350b1e2b-8a04-4b5c-bf14-d563550f2c4d",
   "metadata": {},
   "outputs": [
    {
     "data": {
      "text/html": [
       "<div>\n",
       "<style scoped>\n",
       "    .dataframe tbody tr th:only-of-type {\n",
       "        vertical-align: middle;\n",
       "    }\n",
       "\n",
       "    .dataframe tbody tr th {\n",
       "        vertical-align: top;\n",
       "    }\n",
       "\n",
       "    .dataframe thead th {\n",
       "        text-align: right;\n",
       "    }\n",
       "</style>\n",
       "<table border=\"1\" class=\"dataframe\">\n",
       "  <thead>\n",
       "    <tr style=\"text-align: right;\">\n",
       "      <th></th>\n",
       "      <th>Release_Date</th>\n",
       "      <th>Title</th>\n",
       "      <th>Overview</th>\n",
       "      <th>Popularity</th>\n",
       "      <th>Vote_Count</th>\n",
       "      <th>Vote_Average</th>\n",
       "      <th>Original_Language</th>\n",
       "      <th>Genre</th>\n",
       "      <th>Poster_Url</th>\n",
       "      <th>Year</th>\n",
       "    </tr>\n",
       "  </thead>\n",
       "  <tbody>\n",
       "    <tr>\n",
       "      <th>25546</th>\n",
       "      <td>2021-03-31</td>\n",
       "      <td>The United States vs. Billie Holiday</td>\n",
       "      <td>Billie Holiday spent much of her career being ...</td>\n",
       "      <td>13.354</td>\n",
       "      <td>152</td>\n",
       "      <td>above_avg</td>\n",
       "      <td>en</td>\n",
       "      <td>Music</td>\n",
       "      <td>https://image.tmdb.org/t/p/original/vEzkxuE2sJ...</td>\n",
       "      <td>2021</td>\n",
       "    </tr>\n",
       "    <tr>\n",
       "      <th>25547</th>\n",
       "      <td>2021-03-31</td>\n",
       "      <td>The United States vs. Billie Holiday</td>\n",
       "      <td>Billie Holiday spent much of her career being ...</td>\n",
       "      <td>13.354</td>\n",
       "      <td>152</td>\n",
       "      <td>above_avg</td>\n",
       "      <td>en</td>\n",
       "      <td>Drama</td>\n",
       "      <td>https://image.tmdb.org/t/p/original/vEzkxuE2sJ...</td>\n",
       "      <td>2021</td>\n",
       "    </tr>\n",
       "    <tr>\n",
       "      <th>25548</th>\n",
       "      <td>2021-03-31</td>\n",
       "      <td>The United States vs. Billie Holiday</td>\n",
       "      <td>Billie Holiday spent much of her career being ...</td>\n",
       "      <td>13.354</td>\n",
       "      <td>152</td>\n",
       "      <td>above_avg</td>\n",
       "      <td>en</td>\n",
       "      <td>History</td>\n",
       "      <td>https://image.tmdb.org/t/p/original/vEzkxuE2sJ...</td>\n",
       "      <td>2021</td>\n",
       "    </tr>\n",
       "    <tr>\n",
       "      <th>25549</th>\n",
       "      <td>1984-09-23</td>\n",
       "      <td>Threads</td>\n",
       "      <td>Documentary style account of a nuclear holocau...</td>\n",
       "      <td>13.354</td>\n",
       "      <td>186</td>\n",
       "      <td>popular</td>\n",
       "      <td>en</td>\n",
       "      <td>War</td>\n",
       "      <td>https://image.tmdb.org/t/p/original/lBhU4U9Eeh...</td>\n",
       "      <td>1984</td>\n",
       "    </tr>\n",
       "    <tr>\n",
       "      <th>25550</th>\n",
       "      <td>1984-09-23</td>\n",
       "      <td>Threads</td>\n",
       "      <td>Documentary style account of a nuclear holocau...</td>\n",
       "      <td>13.354</td>\n",
       "      <td>186</td>\n",
       "      <td>popular</td>\n",
       "      <td>en</td>\n",
       "      <td>Drama</td>\n",
       "      <td>https://image.tmdb.org/t/p/original/lBhU4U9Eeh...</td>\n",
       "      <td>1984</td>\n",
       "    </tr>\n",
       "    <tr>\n",
       "      <th>25551</th>\n",
       "      <td>1984-09-23</td>\n",
       "      <td>Threads</td>\n",
       "      <td>Documentary style account of a nuclear holocau...</td>\n",
       "      <td>13.354</td>\n",
       "      <td>186</td>\n",
       "      <td>popular</td>\n",
       "      <td>en</td>\n",
       "      <td>Science Fiction</td>\n",
       "      <td>https://image.tmdb.org/t/p/original/lBhU4U9Eeh...</td>\n",
       "      <td>1984</td>\n",
       "    </tr>\n",
       "  </tbody>\n",
       "</table>\n",
       "</div>"
      ],
      "text/plain": [
       "      Release_Date                                 Title  \\\n",
       "25546   2021-03-31  The United States vs. Billie Holiday   \n",
       "25547   2021-03-31  The United States vs. Billie Holiday   \n",
       "25548   2021-03-31  The United States vs. Billie Holiday   \n",
       "25549   1984-09-23                               Threads   \n",
       "25550   1984-09-23                               Threads   \n",
       "25551   1984-09-23                               Threads   \n",
       "\n",
       "                                                Overview  Popularity  \\\n",
       "25546  Billie Holiday spent much of her career being ...      13.354   \n",
       "25547  Billie Holiday spent much of her career being ...      13.354   \n",
       "25548  Billie Holiday spent much of her career being ...      13.354   \n",
       "25549  Documentary style account of a nuclear holocau...      13.354   \n",
       "25550  Documentary style account of a nuclear holocau...      13.354   \n",
       "25551  Documentary style account of a nuclear holocau...      13.354   \n",
       "\n",
       "       Vote_Count Vote_Average Original_Language            Genre  \\\n",
       "25546         152    above_avg                en            Music   \n",
       "25547         152    above_avg                en            Drama   \n",
       "25548         152    above_avg                en          History   \n",
       "25549         186      popular                en              War   \n",
       "25550         186      popular                en            Drama   \n",
       "25551         186      popular                en  Science Fiction   \n",
       "\n",
       "                                              Poster_Url  Year  \n",
       "25546  https://image.tmdb.org/t/p/original/vEzkxuE2sJ...  2021  \n",
       "25547  https://image.tmdb.org/t/p/original/vEzkxuE2sJ...  2021  \n",
       "25548  https://image.tmdb.org/t/p/original/vEzkxuE2sJ...  2021  \n",
       "25549  https://image.tmdb.org/t/p/original/lBhU4U9Eeh...  1984  \n",
       "25550  https://image.tmdb.org/t/p/original/lBhU4U9Eeh...  1984  \n",
       "25551  https://image.tmdb.org/t/p/original/lBhU4U9Eeh...  1984  "
      ]
     },
     "execution_count": 213,
     "metadata": {},
     "output_type": "execute_result"
    }
   ],
   "source": [
    "df[df['Popularity']==df['Popularity'].min()]"
   ]
  },
  {
   "cell_type": "code",
   "execution_count": 215,
   "id": "0e2d228c-619d-4099-bdb7-357fd1b1071a",
   "metadata": {},
   "outputs": [],
   "source": [
    "# in which year has the most filmed movies?"
   ]
  },
  {
   "cell_type": "code",
   "execution_count": 217,
   "id": "4aeae928-4d86-4e9f-bef8-22249e05f755",
   "metadata": {},
   "outputs": [
    {
     "data": {
      "text/plain": [
       "Text(0.5, 1.0, 'Release data column distribution')"
      ]
     },
     "execution_count": 217,
     "metadata": {},
     "output_type": "execute_result"
    },
    {
     "data": {
      "image/png": "[encoded data removed]",
      "text/plain": [
       "<Figure size 640x480 with 1 Axes>"
      ]
     },
     "metadata": {},
     "output_type": "display_data"
    }
   ],
   "source": [
    "df['Release_Date'].hist()\n",
    "plt.title('Release data column distribution')"
   ]
  },
  {
   "cell_type": "code",
   "execution_count": null,
   "id": "4ccd925e-7682-47fb-89df-24e214e449b3",
   "metadata": {},
   "outputs": [],
   "source": []
  }
 ],
 "metadata": {
  "kernelspec": {
   "display_name": "Python [conda env:base] *",
   "language": "python",
   "name": "conda-base-py"
  },
  "language_info": {
   "codemirror_mode": {
    "name": "ipython",
    "version": 3
   },
   "file_extension": ".py",
   "mimetype": "text/x-python",
   "name": "python",
   "nbconvert_exporter": "python",
   "pygments_lexer": "ipython3",
   "version": "3.12.7"
  }
 },
 "nbformat": 4,
 "nbformat_minor": 5
}
